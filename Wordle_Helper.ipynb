{
 "cells": [
  {
   "cell_type": "markdown",
   "id": "274a6175",
   "metadata": {},
   "source": [
    "# Wordle Suggestion Helper\n",
    "Enter guesses in given format below and the programs prints the remaining possible words from the list of all possbile answers."
   ]
  },
  {
   "cell_type": "code",
   "execution_count": 3,
   "id": "bea1d80b",
   "metadata": {},
   "outputs": [],
   "source": [
    "import re\n",
    "import string\n",
    "from collections import Counter\n",
    "from random import choice"
   ]
  },
  {
   "cell_type": "code",
   "execution_count": 31,
   "id": "9b44259c",
   "metadata": {},
   "outputs": [],
   "source": [
    "class WordleSuggetions:\n",
    "    \n",
    "    def __init__(self,file_name = 'wordle-answers-alphabetical.txt'):\n",
    "        \n",
    "        # Load all possible answers from file\n",
    "        with open(file_name) as f:\n",
    "            self.all_answers = f.read().upper().split('\\n')\n",
    "        \n",
    "        # init class variables\n",
    "        self.possible_sets = []\n",
    "        self.guesses_results = {}\n",
    "        self.required_letters = []\n",
    "        self.remaining_words = self.all_answers\n",
    "                \n",
    "        # init possible sets of letters for each position in answer\n",
    "        for i in range(5):\n",
    "            tmp = ''\n",
    "            for word in self.all_answers:\n",
    "                if word[i] not in tmp:\n",
    "                    tmp = tmp + word[i]\n",
    "            self.possible_sets.append(set(tmp))\n",
    "    \n",
    "    def update_required_letters(self): \n",
    "        # collect letters words must contain\n",
    "        required_letters = []\n",
    "        for key in self.guesses_results:\n",
    "            for result in zip(key,self.guesses_results[key]):\n",
    "                if result[1] > 0:\n",
    "                    required_letters.append(result[0])\n",
    "        self.required_letters = set(required_letters)\n",
    "        \n",
    "    def update_sets(self):\n",
    "        # Trim the posibility set\n",
    "        for key in self.guesses_results.keys():\n",
    "            for i,result in enumerate(zip(key,self.guesses_results[key])):\n",
    "                if result[1] == 0:\n",
    "                    # remove letter from all sets\n",
    "                    self.possible_sets = [x-set(result[0]) for x in self.possible_sets]\n",
    "                elif result[1] == 1:\n",
    "                    # remove letter from location set\n",
    "                    self.possible_sets[i] = self.possible_sets[i] - set(result[0])\n",
    "                else:\n",
    "                    # letter is correct so make set equal to letter in correct location\n",
    "                    self.possible_sets[i] = set(result[0])\n",
    "\n",
    "    def update_words(self):\n",
    "        \n",
    "        self.update_required_letters()\n",
    "        \n",
    "        # build regex from possible letter sets\n",
    "        tester = ''\n",
    "        for s in self.possible_sets:\n",
    "            s = list(s)\n",
    "            s.sort()\n",
    "            s = ''.join(s)\n",
    "            tester = tester + f'[{s}]'\n",
    "        \n",
    "        # find remaining words\n",
    "        tmp = []\n",
    "        for word in self.remaining_words:\n",
    "            if self.required_letters.issubset(set(word)):\n",
    "                if re.match(tester,word):\n",
    "                    tmp.append(word)\n",
    "        self.remaining_words = tmp\n",
    "        \n",
    "    def add_new_guess_and_result(self,word,result):\n",
    "        ''' NOT_IN_WORD = 0\n",
    "            IN_WORD = 1\n",
    "            CORRECT = 2\n",
    "        '''\n",
    "        valid_input = (len(word) == 5) and (len(result)==5) and set(result).issubset(set([0,1,2,]))\n",
    "        if not valid_input:\n",
    "            raise Exception('Invalid Input, word must be 5 letters and results are length 5 with elements 0,1,2')\n",
    "        self.guesses_results[word.upper()] = result\n",
    "        \n",
    "    def suggest_word_most_frequent_letter(self):  \n",
    "        TOP_CUTOFF = 5\n",
    "        tmp = []\n",
    "        for word in self.remaining_words:\n",
    "            tmp.append(list(set(word) - self.required_letters))\n",
    "        most_freq_letters = Counter([x for y in tmp for x in y]).most_common(TOP_CUTOFF)\n",
    "        most_freq_letters = [x[0] for x in most_freq_letters]\n",
    "        \n",
    "        suggestions = []\n",
    "        for i in range(TOP_CUTOFF-1):\n",
    "            for word in self.remaining_words:\n",
    "                if set(most_freq_letters).issubset(set(word)):\n",
    "                    suggestions.append(word)\n",
    "            if suggestions:\n",
    "                break\n",
    "            else:\n",
    "                most_freq_letters = most_freq_letters[:-1]\n",
    "        \n",
    "        if len(suggestions) > 1:\n",
    "            # remove words with duplicate letters\n",
    "            tmp = []\n",
    "            for word in suggestions:\n",
    "                if len(set(word)) > 4:\n",
    "                    tmp.append(word)\n",
    "            if tmp:\n",
    "                suggestions = tmp\n",
    "        if len(suggestions) > 1:\n",
    "            return choice(suggestions)\n",
    "        elif len(suggestions) == 1:\n",
    "            return suggestions\n",
    "        else:\n",
    "            return choice(self.remaining_words)\n",
    "            \n",
    "    \n",
    "    def suggest_word_that_eliminates_most_remaining(self):\n",
    "        w = WordleSuggetions()\n",
    "        w.guesses_results = self.guesses_results\n",
    "            \n",
    "    def print_suggestions(self):\n",
    "        self.update_sets()\n",
    "        self.update_words()\n",
    "        \n",
    "        print('='*20)\n",
    "        print(f'{len(self.remaining_words)} of {len(self.all_answers)} Words Remaining:')\n",
    "        print(self.remaining_words)\n",
    "        print(f'\\nSuggestion for next: {self.suggest_word_most_frequent_letter()}')"
   ]
  },
  {
   "cell_type": "markdown",
   "id": "0bc020bb",
   "metadata": {},
   "source": [
    "## Solve Puzzle"
   ]
  },
  {
   "cell_type": "code",
   "execution_count": 40,
   "id": "dd13ac65",
   "metadata": {},
   "outputs": [
    {
     "name": "stdout",
     "output_type": "stream",
     "text": [
      "====================\n",
      "1 of 2315 Words Remaining:\n",
      "['COULD']\n",
      "\n",
      "Suggestion for next: ['COULD']\n"
     ]
    }
   ],
   "source": [
    "ws = WordleSuggetions()\n",
    "\n",
    "''' Results are entered as list with values for each letter:\n",
    "    NOT_IN_WORD = 0\n",
    "    IN_WORD = 1\n",
    "    CORRECT = 2\n",
    "'''\n",
    "ws.add_new_guess_and_result('RAISE',[0,0,0,0,0])\n",
    "ws.add_new_guess_and_result('YOUNG',[0,2,2,0,0])\n",
    "ws.add_new_guess_and_result('TOUCH',[0,2,2,1,0])\n",
    "\n",
    "ws.print_suggestions()"
   ]
  },
  {
   "cell_type": "code",
   "execution_count": 37,
   "id": "b5891950",
   "metadata": {},
   "outputs": [],
   "source": [
    "words_remaining = [2315,168,9,1]"
   ]
  },
  {
   "cell_type": "code",
   "execution_count": 39,
   "id": "52645133",
   "metadata": {},
   "outputs": [
    {
     "data": {
      "text/plain": [
       "[<matplotlib.lines.Line2D at 0x28cad24ac70>]"
      ]
     },
     "execution_count": 39,
     "metadata": {},
     "output_type": "execute_result"
    },
    {
     "data": {
      "image/png": "[encoded data removed]",
      "text/plain": [
       "<Figure size 432x288 with 1 Axes>"
      ]
     },
     "metadata": {
      "needs_background": "light"
     },
     "output_type": "display_data"
    }
   ],
   "source": [
    "import matplotlib.pyplot as plt\n",
    "tries = [i for i in range(4)]\n",
    "plt.plot(tries,words_remaining)"
   ]
  },
  {
   "cell_type": "code",
   "execution_count": null,
   "id": "c5cd76d2",
   "metadata": {},
   "outputs": [],
   "source": []
  }
 ],
 "metadata": {
  "kernelspec": {
   "display_name": "Python 3 (ipykernel)",
   "language": "python",
   "name": "python3"
  },
  "language_info": {
   "codemirror_mode": {
    "name": "ipython",
    "version": 3
   },
   "file_extension": ".py",
   "mimetype": "text/x-python",
   "name": "python",
   "nbconvert_exporter": "python",
   "pygments_lexer": "ipython3",
   "version": "3.9.7"
  }
 },
 "nbformat": 4,
 "nbformat_minor": 5
}
